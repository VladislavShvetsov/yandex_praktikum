{
 "cells": [
  {
   "metadata": {},
   "cell_type": "markdown",
   "source": [
    "# Выбор локации для скважины\n",
    "## Краткое описание\n",
    "Цель нашего проекта — проанализировать данные и определить наиболее выгодный регион для бурения новой скважины. Это важная задача для компании «ГлавРосГосНефть», поскольку правильный выбор региона может значительно увеличить прибыль компании и сократить возможные убытки.\n",
    "\n",
    "В рамках проекта мы будем работать с данными, которые охватывают три различных региона. Для каждой скважины в этих регионах предоставлена информация о трёх признаках, а также объёме запасов нефти (в тысячах баррелей). Эти данные позволят нам оценить перспективы добычи в каждом из регионов и сформировать стратегическое решение о бурении.\n",
    "\n",
    "## Цели и задачи проекта\n",
    "\n",
    "1. **Изучение данных и подготовка**\n",
    "    - Загрузка данных и ознакомление с ними.\n",
    "    - Предварительная обработка данных для дальнейшего анализа.\n",
    "\n",
    "2. **Построение и оценка модели**\n",
    "    - Разделение данных на обучающую и валидационную выборки.\n",
    "    - Построение модели линейной регрессии для предсказания объёма нефти.\n",
    "    - Валидация модели: вычисление среднего запаса нефти и RMSE.\n",
    "\n",
    "3. **Анализ доходности**\n",
    "    - Расчет достаточного объёма нефти для безубыточной разработки.\n",
    "    - Сравнение этого объема со средним запасом в каждом регионе.\n",
    "\n",
    "4. **Расчет прибыли и оценка рисков**\n",
    "    - Поиск лучших скважин по предсказанным значениям.\n",
    "    - Оценка прибыли каждого региона методом Bootstrap.\n",
    "    - Анализ средней прибыли, доверительных интервалов и рисков убытков.\n",
    "\n",
    "5. **Выводы и рекомендации**\n",
    "    - Предложение наиболее перспективного региона для разработки.\n",
    "    - Обоснование сделанного выбора.\n",
    "\n",
    "## Описание данных\n",
    "\n",
    "Для реализации проекта мы используем данные геологоразведки трех различных регионов. Эти данные представлены в следующих файлах:\n",
    "\n",
    "- `/datasets/geo_data_0.csv` - Данные первого региона.\n",
    "- `/datasets/geo_data_1.csv` - Данные второго региона.\n",
    "- `/datasets/geo_data_2.csv` - Данные третьего региона.\n",
    "\n",
    "Каждый из этих файлов содержит информацию о скважинах региона и включает в себя следующие столбцы:\n",
    "\n",
    "- **`id`**: Уникальный идентификатор скважины, который позволяет различать разные точки бурения.\n",
    "- **`f0`, `f1`, `f2`**: Три числовых признака, которые описывают каждую скважину. Хотя конкретное значение этих признаков неизвестно, они играют ключевую роль в моделировании и предсказании.\n",
    "- **`product`**: Объём запасов нефти в скважине, измеряемый в тысячах баррелей. Этот показатель является целевой переменной, которая будет использована в нашей модели для оценки прибыльности бурения.\n",
    "\n",
    "## План работы\n",
    "\n",
    "### 1. Загрузка и подготовка данных\n",
    "- Загрузим данные из предоставленных файлов для трех регионов.\n",
    "- Проведем базовый анализ данных: проверим наличие пропусков и дубликатов.\n",
    "- Предварительно обработаем данные, если это необходимо (например, изменение типов данных, удаление или заполнение пропусков).\n",
    "\n",
    "### 2. Обучение и проверка модели для каждого региона\n",
    "#### 2.1. Разделение данных\n",
    "- Разобьём данные на обучающую и валидационную выборки в соотношении 75:25 для каждого региона.\n",
    "\n",
    "#### 2.2. Обучение модели\n",
    "- Обучим модель линейной регрессии на обучающей выборке.\n",
    "- Сделаем предсказания на валидационной выборке.\n",
    "\n",
    "#### 2.3. Сохранение результатов\n",
    "- Сохраним предсказания модели и правильные ответы на валидационной выборке для дальнейшего анализа.\n",
    "\n",
    "#### 2.4. Оценка модели\n",
    "- Выведем на экран средний объём предсказанного сырья и значение RMSE для каждой модели.\n",
    "\n",
    "#### 2.5. Анализ результатов\n",
    "- Проанализируем полученные результаты и сделаем выводы о качестве моделей.\n",
    "\n",
    "### 3. Подготовка к расчету прибыли\n",
    "#### 3.1. Определение ключевых значений\n",
    "- Сохраним все ключевые значения для расчётов, такие как стоимость разработки и продажи нефти, в отдельных переменных.\n",
    "\n",
    "#### 3.2. Расчет безубыточности\n",
    "- Рассчитаем достаточный объём сырья для безубыточной разработки новой скважины.\n",
    "- Сравним этот объём с средним запасом в каждом регионе.\n",
    "\n",
    "#### 3.3. Выводы\n",
    "- Сделаем выводы по подготовительной фазе расчётов прибыли.\n",
    "\n",
    "### 4. Функция для расчета прибыли\n",
    "#### 4.1. Выбор оптимальных скважин\n",
    "- Определим скважины с максимальными значениями предсказанных объёмов сырья.\n",
    "\n",
    "#### 4.2. Сумма объёмов\n",
    "- Просуммируем целевое значение объёма сырья для выбранных скважин.\n",
    "\n",
    "#### 4.3. Расчет прибыли\n",
    "- Рассчитаем прибыль на основе полученных данных.\n",
    "\n",
    "### 5. Оценка рисков и прибыли для каждого региона\n",
    "#### 5.1. Bootstrap-оценка\n",
    "- Применим технику Bootstrap с 1000 выборок, чтобы исследовать распределение прибыли.\n",
    "\n",
    "#### 5.2. Анализ результатов\n",
    "- Рассчитаем среднюю прибыль, 95%-й доверительный интервал и оценим риск убытков (где убыток — это отрицательная прибыль).\n",
    "\n",
    "#### 5.3. Выводы и рекомендации\n",
    "- Сделаем выводы по результатам: предложим оптимальный регион для разработки и обоснуем наш выбор на основании полученных данных.\n",
    "\n"
   ],
   "id": "a96c4a9b96ebd5a"
  },
  {
   "metadata": {},
   "cell_type": "markdown",
   "source": "## Импорты библиотек",
   "id": "18bbe8f6419b6112"
  },
  {
   "metadata": {
    "ExecuteTime": {
     "end_time": "2024-11-26T05:47:19.205827Z",
     "start_time": "2024-11-26T05:47:19.047684Z"
    }
   },
   "cell_type": "code",
   "source": [
    "import pandas as pd\n",
    "import os\n",
    "import numpy as np\n",
    "from sklearn.linear_model import LinearRegression\n",
    "from sklearn.metrics import mean_squared_error\n",
    "from sklearn.model_selection import train_test_split\n",
    "import matplotlib.pyplot as plt\n",
    "from sklearn.preprocessing import StandardScaler"
   ],
   "id": "1318a34a833ed9a3",
   "outputs": [],
   "execution_count": 1
  },
  {
   "metadata": {},
   "cell_type": "markdown",
   "source": "    ## Загрузка данных",
   "id": "7acbe7d8cbd9fc24"
  },
  {
   "metadata": {
    "ExecuteTime": {
     "end_time": "2024-11-26T05:47:30.393566Z",
     "start_time": "2024-11-26T05:47:19.209320Z"
    }
   },
   "cell_type": "code",
   "source": [
    "geo_df_01_path = 'datasets/geo_data_0.csv'\n",
    "geo_df_02_path = 'datasets/geo_data_1.csv'\n",
    "geo_df_03_path = 'datasets/geo_data_2.csv'\n",
    "\n",
    "geo_df_01_url = 'https://code.s3.yandex.net/datasets/geo_data_0.csv'\n",
    "geo_df_02_url = 'https://code.s3.yandex.net/datasets/geo_data_1.csv'\n",
    "geo_df_03_url = 'https://code.s3.yandex.net/datasets/geo_data_2.csv'\n",
    "\n",
    "def load_data(file_path, file_url, sep=\",\"):\n",
    "    if os.path.exists(file_path):\n",
    "        data = pd.read_csv(file_path, sep=sep)\n",
    "    else:\n",
    "        data = pd.read_csv(file_url, sep=sep)\n",
    "    return data\n",
    "\n",
    "geo_df_01 = load_data(geo_df_01_path, geo_df_01_url)\n",
    "geo_df_02 = load_data(geo_df_02_path, geo_df_02_url)\n",
    "geo_df_03 = load_data(geo_df_03_path, geo_df_03_url)\n",
    "\n"
   ],
   "id": "c53cbf313f4da260",
   "outputs": [],
   "execution_count": 2
  },
  {
   "metadata": {},
   "cell_type": "markdown",
   "source": "## Функции для проекта",
   "id": "124467f9e36f53d9"
  },
  {
   "metadata": {
    "ExecuteTime": {
     "end_time": "2024-11-26T05:47:30.581958Z",
     "start_time": "2024-11-26T05:47:30.576313Z"
    }
   },
   "cell_type": "code",
   "source": [
    "# Функция для обработки данных датафрейма\n",
    "def research(df):\n",
    "    # Отображение первых 5 строк таблицы для ознакомления\n",
    "    print(\"Первые 5 строк таблицы:\")\n",
    "    display(df.head())\n",
    "\n",
    "    # Общая информация о таблице\n",
    "    print(\"\\nИнформация о таблице:\")\n",
    "    df_info = pd.DataFrame({\n",
    "        \"columns\": df.columns,\n",
    "        \"dtype\": df.dtypes,\n",
    "        \"non-null count\": df.count()\n",
    "    })\n",
    "    display(df_info)\n",
    "\n",
    "    # Проверка на пропуски\n",
    "    print(\"\\nАнализ пропущенных значений:\")\n",
    "    missing_data = pd.DataFrame({\n",
    "        \"Пропуски (шт.)\": df.isna().sum(),\n",
    "        \"Пропуски (%)\": df.isna().mean() * 100\n",
    "    })\n",
    "    display(missing_data)\n",
    "\n",
    "    # Статистическое описание данных\n",
    "    print(\"\\nСтатистическое описание данных:\")\n",
    "    display(df.describe())\n",
    "\n",
    "    # Проверка на явные дубликаты\n",
    "    num_duplicates = df.duplicated().sum()\n",
    "    print(f\"Число явных дубликатов: {num_duplicates}\")\n",
    "\n",
    "    if num_duplicates:\n",
    "        print(\"ВНИМАНИЕ: Данные содержат дубликаты!\")\n",
    "\n",
    "\n",
    "def oil_hist(seria, bins, xlim_max, ylim_max):\n",
    "    plt.figure(figsize=[12,9])\n",
    "\n",
    "    plt.hist(seria, bins=bins)\n",
    "\n",
    "    plt.xlim(0, xlim_max)\n",
    "    plt.ylim(0, ylim_max)\n",
    "\n",
    "    plt.xlabel(\"Объем нефти на скважину в тыс. барелей\")\n",
    "    plt.ylabel(\"Количество скважин\")\n",
    "\n",
    "    plt.title(\"Гистограмма распраделения по объему скважин\")\n",
    "    plt.show()\n"
   ],
   "id": "5fd1063d2c26a929",
   "outputs": [],
   "execution_count": 3
  },
  {
   "metadata": {},
   "cell_type": "markdown",
   "source": [
    "## Данные по 1-у датасету\n",
    "\n"
   ],
   "id": "bb214be2e3bb4185"
  },
  {
   "metadata": {
    "ExecuteTime": {
     "end_time": "2024-11-26T05:47:30.930464Z",
     "start_time": "2024-11-26T05:47:30.592669Z"
    }
   },
   "cell_type": "code",
   "source": "oil_hist(geo_df_01['product'], 200, 190, 1000)",
   "id": "5624819470b6360e",
   "outputs": [
    {
     "data": {
      "text/plain": [
       "<Figure size 1200x900 with 1 Axes>"
      ],
      "image/png": "[encoded data removed]"
     },
     "metadata": {},
     "output_type": "display_data"
    }
   ],
   "execution_count": 4
  },
  {
   "metadata": {
    "ExecuteTime": {
     "end_time": "2024-11-26T05:47:31.033657Z",
     "start_time": "2024-11-26T05:47:30.942178Z"
    }
   },
   "cell_type": "code",
   "source": "research(geo_df_01)",
   "id": "52e7949d66015825",
   "outputs": [
    {
     "name": "stdout",
     "output_type": "stream",
     "text": [
      "Первые 5 строк таблицы:\n"
     ]
    },
    {
     "data": {
      "text/plain": [
       "      id        f0        f1        f2     product\n",
       "0  txEyH  0.705745 -0.497823  1.221170  105.280062\n",
       "1  2acmU  1.334711 -0.340164  4.365080   73.037750\n",
       "2  409Wp  1.022732  0.151990  1.419926   85.265647\n",
       "3  iJLyR -0.032172  0.139033  2.978566  168.620776\n",
       "4  Xdl7t  1.988431  0.155413  4.751769  154.036647"
      ],
      "text/html": [
       "<div>\n",
       "<style scoped>\n",
       "    .dataframe tbody tr th:only-of-type {\n",
       "        vertical-align: middle;\n",
       "    }\n",
       "\n",
       "    .dataframe tbody tr th {\n",
       "        vertical-align: top;\n",
       "    }\n",
       "\n",
       "    .dataframe thead th {\n",
       "        text-align: right;\n",
       "    }\n",
       "</style>\n",
       "<table border=\"1\" class=\"dataframe\">\n",
       "  <thead>\n",
       "    <tr style=\"text-align: right;\">\n",
       "      <th></th>\n",
       "      <th>id</th>\n",
       "      <th>f0</th>\n",
       "      <th>f1</th>\n",
       "      <th>f2</th>\n",
       "      <th>product</th>\n",
       "    </tr>\n",
       "  </thead>\n",
       "  <tbody>\n",
       "    <tr>\n",
       "      <th>0</th>\n",
       "      <td>txEyH</td>\n",
       "      <td>0.705745</td>\n",
       "      <td>-0.497823</td>\n",
       "      <td>1.221170</td>\n",
       "      <td>105.280062</td>\n",
       "    </tr>\n",
       "    <tr>\n",
       "      <th>1</th>\n",
       "      <td>2acmU</td>\n",
       "      <td>1.334711</td>\n",
       "      <td>-0.340164</td>\n",
       "      <td>4.365080</td>\n",
       "      <td>73.037750</td>\n",
       "    </tr>\n",
       "    <tr>\n",
       "      <th>2</th>\n",
       "      <td>409Wp</td>\n",
       "      <td>1.022732</td>\n",
       "      <td>0.151990</td>\n",
       "      <td>1.419926</td>\n",
       "      <td>85.265647</td>\n",
       "    </tr>\n",
       "    <tr>\n",
       "      <th>3</th>\n",
       "      <td>iJLyR</td>\n",
       "      <td>-0.032172</td>\n",
       "      <td>0.139033</td>\n",
       "      <td>2.978566</td>\n",
       "      <td>168.620776</td>\n",
       "    </tr>\n",
       "    <tr>\n",
       "      <th>4</th>\n",
       "      <td>Xdl7t</td>\n",
       "      <td>1.988431</td>\n",
       "      <td>0.155413</td>\n",
       "      <td>4.751769</td>\n",
       "      <td>154.036647</td>\n",
       "    </tr>\n",
       "  </tbody>\n",
       "</table>\n",
       "</div>"
      ]
     },
     "metadata": {},
     "output_type": "display_data"
    },
    {
     "name": "stdout",
     "output_type": "stream",
     "text": [
      "\n",
      "Информация о таблице:\n"
     ]
    },
    {
     "data": {
      "text/plain": [
       "         columns    dtype  non-null count\n",
       "id            id   object          100000\n",
       "f0            f0  float64          100000\n",
       "f1            f1  float64          100000\n",
       "f2            f2  float64          100000\n",
       "product  product  float64          100000"
      ],
      "text/html": [
       "<div>\n",
       "<style scoped>\n",
       "    .dataframe tbody tr th:only-of-type {\n",
       "        vertical-align: middle;\n",
       "    }\n",
       "\n",
       "    .dataframe tbody tr th {\n",
       "        vertical-align: top;\n",
       "    }\n",
       "\n",
       "    .dataframe thead th {\n",
       "        text-align: right;\n",
       "    }\n",
       "</style>\n",
       "<table border=\"1\" class=\"dataframe\">\n",
       "  <thead>\n",
       "    <tr style=\"text-align: right;\">\n",
       "      <th></th>\n",
       "      <th>columns</th>\n",
       "      <th>dtype</th>\n",
       "      <th>non-null count</th>\n",
       "    </tr>\n",
       "  </thead>\n",
       "  <tbody>\n",
       "    <tr>\n",
       "      <th>id</th>\n",
       "      <td>id</td>\n",
       "      <td>object</td>\n",
       "      <td>100000</td>\n",
       "    </tr>\n",
       "    <tr>\n",
       "      <th>f0</th>\n",
       "      <td>f0</td>\n",
       "      <td>float64</td>\n",
       "      <td>100000</td>\n",
       "    </tr>\n",
       "    <tr>\n",
       "      <th>f1</th>\n",
       "      <td>f1</td>\n",
       "      <td>float64</td>\n",
       "      <td>100000</td>\n",
       "    </tr>\n",
       "    <tr>\n",
       "      <th>f2</th>\n",
       "      <td>f2</td>\n",
       "      <td>float64</td>\n",
       "      <td>100000</td>\n",
       "    </tr>\n",
       "    <tr>\n",
       "      <th>product</th>\n",
       "      <td>product</td>\n",
       "      <td>float64</td>\n",
       "      <td>100000</td>\n",
       "    </tr>\n",
       "  </tbody>\n",
       "</table>\n",
       "</div>"
      ]
     },
     "metadata": {},
     "output_type": "display_data"
    },
    {
     "name": "stdout",
     "output_type": "stream",
     "text": [
      "\n",
      "Анализ пропущенных значений:\n"
     ]
    },
    {
     "data": {
      "text/plain": [
       "         Пропуски (шт.)  Пропуски (%)\n",
       "id                    0           0.0\n",
       "f0                    0           0.0\n",
       "f1                    0           0.0\n",
       "f2                    0           0.0\n",
       "product               0           0.0"
      ],
      "text/html": [
       "<div>\n",
       "<style scoped>\n",
       "    .dataframe tbody tr th:only-of-type {\n",
       "        vertical-align: middle;\n",
       "    }\n",
       "\n",
       "    .dataframe tbody tr th {\n",
       "        vertical-align: top;\n",
       "    }\n",
       "\n",
       "    .dataframe thead th {\n",
       "        text-align: right;\n",
       "    }\n",
       "</style>\n",
       "<table border=\"1\" class=\"dataframe\">\n",
       "  <thead>\n",
       "    <tr style=\"text-align: right;\">\n",
       "      <th></th>\n",
       "      <th>Пропуски (шт.)</th>\n",
       "      <th>Пропуски (%)</th>\n",
       "    </tr>\n",
       "  </thead>\n",
       "  <tbody>\n",
       "    <tr>\n",
       "      <th>id</th>\n",
       "      <td>0</td>\n",
       "      <td>0.0</td>\n",
       "    </tr>\n",
       "    <tr>\n",
       "      <th>f0</th>\n",
       "      <td>0</td>\n",
       "      <td>0.0</td>\n",
       "    </tr>\n",
       "    <tr>\n",
       "      <th>f1</th>\n",
       "      <td>0</td>\n",
       "      <td>0.0</td>\n",
       "    </tr>\n",
       "    <tr>\n",
       "      <th>f2</th>\n",
       "      <td>0</td>\n",
       "      <td>0.0</td>\n",
       "    </tr>\n",
       "    <tr>\n",
       "      <th>product</th>\n",
       "      <td>0</td>\n",
       "      <td>0.0</td>\n",
       "    </tr>\n",
       "  </tbody>\n",
       "</table>\n",
       "</div>"
      ]
     },
     "metadata": {},
     "output_type": "display_data"
    },
    {
     "name": "stdout",
     "output_type": "stream",
     "text": [
      "\n",
      "Статистическое описание данных:\n"
     ]
    },
    {
     "data": {
      "text/plain": [
       "                  f0             f1             f2        product\n",
       "count  100000.000000  100000.000000  100000.000000  100000.000000\n",
       "mean        0.500419       0.250143       2.502647      92.500000\n",
       "std         0.871832       0.504433       3.248248      44.288691\n",
       "min        -1.408605      -0.848218     -12.088328       0.000000\n",
       "25%        -0.072580      -0.200881       0.287748      56.497507\n",
       "50%         0.502360       0.250252       2.515969      91.849972\n",
       "75%         1.073581       0.700646       4.715088     128.564089\n",
       "max         2.362331       1.343769      16.003790     185.364347"
      ],
      "text/html": [
       "<div>\n",
       "<style scoped>\n",
       "    .dataframe tbody tr th:only-of-type {\n",
       "        vertical-align: middle;\n",
       "    }\n",
       "\n",
       "    .dataframe tbody tr th {\n",
       "        vertical-align: top;\n",
       "    }\n",
       "\n",
       "    .dataframe thead th {\n",
       "        text-align: right;\n",
       "    }\n",
       "</style>\n",
       "<table border=\"1\" class=\"dataframe\">\n",
       "  <thead>\n",
       "    <tr style=\"text-align: right;\">\n",
       "      <th></th>\n",
       "      <th>f0</th>\n",
       "      <th>f1</th>\n",
       "      <th>f2</th>\n",
       "      <th>product</th>\n",
       "    </tr>\n",
       "  </thead>\n",
       "  <tbody>\n",
       "    <tr>\n",
       "      <th>count</th>\n",
       "      <td>100000.000000</td>\n",
       "      <td>100000.000000</td>\n",
       "      <td>100000.000000</td>\n",
       "      <td>100000.000000</td>\n",
       "    </tr>\n",
       "    <tr>\n",
       "      <th>mean</th>\n",
       "      <td>0.500419</td>\n",
       "      <td>0.250143</td>\n",
       "      <td>2.502647</td>\n",
       "      <td>92.500000</td>\n",
       "    </tr>\n",
       "    <tr>\n",
       "      <th>std</th>\n",
       "      <td>0.871832</td>\n",
       "      <td>0.504433</td>\n",
       "      <td>3.248248</td>\n",
       "      <td>44.288691</td>\n",
       "    </tr>\n",
       "    <tr>\n",
       "      <th>min</th>\n",
       "      <td>-1.408605</td>\n",
       "      <td>-0.848218</td>\n",
       "      <td>-12.088328</td>\n",
       "      <td>0.000000</td>\n",
       "    </tr>\n",
       "    <tr>\n",
       "      <th>25%</th>\n",
       "      <td>-0.072580</td>\n",
       "      <td>-0.200881</td>\n",
       "      <td>0.287748</td>\n",
       "      <td>56.497507</td>\n",
       "    </tr>\n",
       "    <tr>\n",
       "      <th>50%</th>\n",
       "      <td>0.502360</td>\n",
       "      <td>0.250252</td>\n",
       "      <td>2.515969</td>\n",
       "      <td>91.849972</td>\n",
       "    </tr>\n",
       "    <tr>\n",
       "      <th>75%</th>\n",
       "      <td>1.073581</td>\n",
       "      <td>0.700646</td>\n",
       "      <td>4.715088</td>\n",
       "      <td>128.564089</td>\n",
       "    </tr>\n",
       "    <tr>\n",
       "      <th>max</th>\n",
       "      <td>2.362331</td>\n",
       "      <td>1.343769</td>\n",
       "      <td>16.003790</td>\n",
       "      <td>185.364347</td>\n",
       "    </tr>\n",
       "  </tbody>\n",
       "</table>\n",
       "</div>"
      ]
     },
     "metadata": {},
     "output_type": "display_data"
    },
    {
     "name": "stdout",
     "output_type": "stream",
     "text": [
      "Число явных дубликатов: 0\n"
     ]
    }
   ],
   "execution_count": 5
  },
  {
   "metadata": {},
   "cell_type": "markdown",
   "source": "## Данные по 2-у датасету\n",
   "id": "45804300cafa389b"
  },
  {
   "metadata": {
    "ExecuteTime": {
     "end_time": "2024-11-26T05:47:31.527493Z",
     "start_time": "2024-11-26T05:47:31.210268Z"
    }
   },
   "cell_type": "code",
   "source": "oil_hist(geo_df_02['product'], 200, 150, 1000)",
   "id": "e6060f07d624ca7",
   "outputs": [
    {
     "data": {
      "text/plain": [
       "<Figure size 1200x900 with 1 Axes>"
      ],
      "image/png": "[encoded data removed]"
     },
     "metadata": {},
     "output_type": "display_data"
    }
   ],
   "execution_count": 6
  },
  {
   "metadata": {
    "ExecuteTime": {
     "end_time": "2024-11-26T05:47:31.772826Z",
     "start_time": "2024-11-26T05:47:31.693033Z"
    }
   },
   "cell_type": "code",
   "source": "research(geo_df_02)",
   "id": "a89ee2831ed7ffd6",
   "outputs": [
    {
     "name": "stdout",
     "output_type": "stream",
     "text": [
      "Первые 5 строк таблицы:\n"
     ]
    },
    {
     "data": {
      "text/plain": [
       "      id         f0         f1        f2     product\n",
       "0  kBEdx -15.001348  -8.276000 -0.005876    3.179103\n",
       "1  62mP7  14.272088  -3.475083  0.999183   26.953261\n",
       "2  vyE1P   6.263187  -5.948386  5.001160  134.766305\n",
       "3  KcrkZ -13.081196 -11.506057  4.999415  137.945408\n",
       "4  AHL4O  12.702195  -8.147433  5.004363  134.766305"
      ],
      "text/html": [
       "<div>\n",
       "<style scoped>\n",
       "    .dataframe tbody tr th:only-of-type {\n",
       "        vertical-align: middle;\n",
       "    }\n",
       "\n",
       "    .dataframe tbody tr th {\n",
       "        vertical-align: top;\n",
       "    }\n",
       "\n",
       "    .dataframe thead th {\n",
       "        text-align: right;\n",
       "    }\n",
       "</style>\n",
       "<table border=\"1\" class=\"dataframe\">\n",
       "  <thead>\n",
       "    <tr style=\"text-align: right;\">\n",
       "      <th></th>\n",
       "      <th>id</th>\n",
       "      <th>f0</th>\n",
       "      <th>f1</th>\n",
       "      <th>f2</th>\n",
       "      <th>product</th>\n",
       "    </tr>\n",
       "  </thead>\n",
       "  <tbody>\n",
       "    <tr>\n",
       "      <th>0</th>\n",
       "      <td>kBEdx</td>\n",
       "      <td>-15.001348</td>\n",
       "      <td>-8.276000</td>\n",
       "      <td>-0.005876</td>\n",
       "      <td>3.179103</td>\n",
       "    </tr>\n",
       "    <tr>\n",
       "      <th>1</th>\n",
       "      <td>62mP7</td>\n",
       "      <td>14.272088</td>\n",
       "      <td>-3.475083</td>\n",
       "      <td>0.999183</td>\n",
       "      <td>26.953261</td>\n",
       "    </tr>\n",
       "    <tr>\n",
       "      <th>2</th>\n",
       "      <td>vyE1P</td>\n",
       "      <td>6.263187</td>\n",
       "      <td>-5.948386</td>\n",
       "      <td>5.001160</td>\n",
       "      <td>134.766305</td>\n",
       "    </tr>\n",
       "    <tr>\n",
       "      <th>3</th>\n",
       "      <td>KcrkZ</td>\n",
       "      <td>-13.081196</td>\n",
       "      <td>-11.506057</td>\n",
       "      <td>4.999415</td>\n",
       "      <td>137.945408</td>\n",
       "    </tr>\n",
       "    <tr>\n",
       "      <th>4</th>\n",
       "      <td>AHL4O</td>\n",
       "      <td>12.702195</td>\n",
       "      <td>-8.147433</td>\n",
       "      <td>5.004363</td>\n",
       "      <td>134.766305</td>\n",
       "    </tr>\n",
       "  </tbody>\n",
       "</table>\n",
       "</div>"
      ]
     },
     "metadata": {},
     "output_type": "display_data"
    },
    {
     "name": "stdout",
     "output_type": "stream",
     "text": [
      "\n",
      "Информация о таблице:\n"
     ]
    },
    {
     "data": {
      "text/plain": [
       "         columns    dtype  non-null count\n",
       "id            id   object          100000\n",
       "f0            f0  float64          100000\n",
       "f1            f1  float64          100000\n",
       "f2            f2  float64          100000\n",
       "product  product  float64          100000"
      ],
      "text/html": [
       "<div>\n",
       "<style scoped>\n",
       "    .dataframe tbody tr th:only-of-type {\n",
       "        vertical-align: middle;\n",
       "    }\n",
       "\n",
       "    .dataframe tbody tr th {\n",
       "        vertical-align: top;\n",
       "    }\n",
       "\n",
       "    .dataframe thead th {\n",
       "        text-align: right;\n",
       "    }\n",
       "</style>\n",
       "<table border=\"1\" class=\"dataframe\">\n",
       "  <thead>\n",
       "    <tr style=\"text-align: right;\">\n",
       "      <th></th>\n",
       "      <th>columns</th>\n",
       "      <th>dtype</th>\n",
       "      <th>non-null count</th>\n",
       "    </tr>\n",
       "  </thead>\n",
       "  <tbody>\n",
       "    <tr>\n",
       "      <th>id</th>\n",
       "      <td>id</td>\n",
       "      <td>object</td>\n",
       "      <td>100000</td>\n",
       "    </tr>\n",
       "    <tr>\n",
       "      <th>f0</th>\n",
       "      <td>f0</td>\n",
       "      <td>float64</td>\n",
       "      <td>100000</td>\n",
       "    </tr>\n",
       "    <tr>\n",
       "      <th>f1</th>\n",
       "      <td>f1</td>\n",
       "      <td>float64</td>\n",
       "      <td>100000</td>\n",
       "    </tr>\n",
       "    <tr>\n",
       "      <th>f2</th>\n",
       "      <td>f2</td>\n",
       "      <td>float64</td>\n",
       "      <td>100000</td>\n",
       "    </tr>\n",
       "    <tr>\n",
       "      <th>product</th>\n",
       "      <td>product</td>\n",
       "      <td>float64</td>\n",
       "      <td>100000</td>\n",
       "    </tr>\n",
       "  </tbody>\n",
       "</table>\n",
       "</div>"
      ]
     },
     "metadata": {},
     "output_type": "display_data"
    },
    {
     "name": "stdout",
     "output_type": "stream",
     "text": [
      "\n",
      "Анализ пропущенных значений:\n"
     ]
    },
    {
     "data": {
      "text/plain": [
       "         Пропуски (шт.)  Пропуски (%)\n",
       "id                    0           0.0\n",
       "f0                    0           0.0\n",
       "f1                    0           0.0\n",
       "f2                    0           0.0\n",
       "product               0           0.0"
      ],
      "text/html": [
       "<div>\n",
       "<style scoped>\n",
       "    .dataframe tbody tr th:only-of-type {\n",
       "        vertical-align: middle;\n",
       "    }\n",
       "\n",
       "    .dataframe tbody tr th {\n",
       "        vertical-align: top;\n",
       "    }\n",
       "\n",
       "    .dataframe thead th {\n",
       "        text-align: right;\n",
       "    }\n",
       "</style>\n",
       "<table border=\"1\" class=\"dataframe\">\n",
       "  <thead>\n",
       "    <tr style=\"text-align: right;\">\n",
       "      <th></th>\n",
       "      <th>Пропуски (шт.)</th>\n",
       "      <th>Пропуски (%)</th>\n",
       "    </tr>\n",
       "  </thead>\n",
       "  <tbody>\n",
       "    <tr>\n",
       "      <th>id</th>\n",
       "      <td>0</td>\n",
       "      <td>0.0</td>\n",
       "    </tr>\n",
       "    <tr>\n",
       "      <th>f0</th>\n",
       "      <td>0</td>\n",
       "      <td>0.0</td>\n",
       "    </tr>\n",
       "    <tr>\n",
       "      <th>f1</th>\n",
       "      <td>0</td>\n",
       "      <td>0.0</td>\n",
       "    </tr>\n",
       "    <tr>\n",
       "      <th>f2</th>\n",
       "      <td>0</td>\n",
       "      <td>0.0</td>\n",
       "    </tr>\n",
       "    <tr>\n",
       "      <th>product</th>\n",
       "      <td>0</td>\n",
       "      <td>0.0</td>\n",
       "    </tr>\n",
       "  </tbody>\n",
       "</table>\n",
       "</div>"
      ]
     },
     "metadata": {},
     "output_type": "display_data"
    },
    {
     "name": "stdout",
     "output_type": "stream",
     "text": [
      "\n",
      "Статистическое описание данных:\n"
     ]
    },
    {
     "data": {
      "text/plain": [
       "                  f0             f1             f2        product\n",
       "count  100000.000000  100000.000000  100000.000000  100000.000000\n",
       "mean        1.141296      -4.796579       2.494541      68.825000\n",
       "std         8.965932       5.119872       1.703572      45.944423\n",
       "min       -31.609576     -26.358598      -0.018144       0.000000\n",
       "25%        -6.298551      -8.267985       1.000021      26.953261\n",
       "50%         1.153055      -4.813172       2.011479      57.085625\n",
       "75%         8.621015      -1.332816       3.999904     107.813044\n",
       "max        29.421755      18.734063       5.019721     137.945408"
      ],
      "text/html": [
       "<div>\n",
       "<style scoped>\n",
       "    .dataframe tbody tr th:only-of-type {\n",
       "        vertical-align: middle;\n",
       "    }\n",
       "\n",
       "    .dataframe tbody tr th {\n",
       "        vertical-align: top;\n",
       "    }\n",
       "\n",
       "    .dataframe thead th {\n",
       "        text-align: right;\n",
       "    }\n",
       "</style>\n",
       "<table border=\"1\" class=\"dataframe\">\n",
       "  <thead>\n",
       "    <tr style=\"text-align: right;\">\n",
       "      <th></th>\n",
       "      <th>f0</th>\n",
       "      <th>f1</th>\n",
       "      <th>f2</th>\n",
       "      <th>product</th>\n",
       "    </tr>\n",
       "  </thead>\n",
       "  <tbody>\n",
       "    <tr>\n",
       "      <th>count</th>\n",
       "      <td>100000.000000</td>\n",
       "      <td>100000.000000</td>\n",
       "      <td>100000.000000</td>\n",
       "      <td>100000.000000</td>\n",
       "    </tr>\n",
       "    <tr>\n",
       "      <th>mean</th>\n",
       "      <td>1.141296</td>\n",
       "      <td>-4.796579</td>\n",
       "      <td>2.494541</td>\n",
       "      <td>68.825000</td>\n",
       "    </tr>\n",
       "    <tr>\n",
       "      <th>std</th>\n",
       "      <td>8.965932</td>\n",
       "      <td>5.119872</td>\n",
       "      <td>1.703572</td>\n",
       "      <td>45.944423</td>\n",
       "    </tr>\n",
       "    <tr>\n",
       "      <th>min</th>\n",
       "      <td>-31.609576</td>\n",
       "      <td>-26.358598</td>\n",
       "      <td>-0.018144</td>\n",
       "      <td>0.000000</td>\n",
       "    </tr>\n",
       "    <tr>\n",
       "      <th>25%</th>\n",
       "      <td>-6.298551</td>\n",
       "      <td>-8.267985</td>\n",
       "      <td>1.000021</td>\n",
       "      <td>26.953261</td>\n",
       "    </tr>\n",
       "    <tr>\n",
       "      <th>50%</th>\n",
       "      <td>1.153055</td>\n",
       "      <td>-4.813172</td>\n",
       "      <td>2.011479</td>\n",
       "      <td>57.085625</td>\n",
       "    </tr>\n",
       "    <tr>\n",
       "      <th>75%</th>\n",
       "      <td>8.621015</td>\n",
       "      <td>-1.332816</td>\n",
       "      <td>3.999904</td>\n",
       "      <td>107.813044</td>\n",
       "    </tr>\n",
       "    <tr>\n",
       "      <th>max</th>\n",
       "      <td>29.421755</td>\n",
       "      <td>18.734063</td>\n",
       "      <td>5.019721</td>\n",
       "      <td>137.945408</td>\n",
       "    </tr>\n",
       "  </tbody>\n",
       "</table>\n",
       "</div>"
      ]
     },
     "metadata": {},
     "output_type": "display_data"
    },
    {
     "name": "stdout",
     "output_type": "stream",
     "text": [
      "Число явных дубликатов: 0\n"
     ]
    }
   ],
   "execution_count": 7
  },
  {
   "metadata": {},
   "cell_type": "markdown",
   "source": "## Данные по 3-у датасету",
   "id": "8c093a381a6cc5de"
  },
  {
   "metadata": {
    "ExecuteTime": {
     "end_time": "2024-11-26T05:47:32.175646Z",
     "start_time": "2024-11-26T05:47:31.850140Z"
    }
   },
   "cell_type": "code",
   "source": "oil_hist(geo_df_03['product'], 200, 190, 1000)",
   "id": "13cea48cb8223e5",
   "outputs": [
    {
     "data": {
      "text/plain": [
       "<Figure size 1200x900 with 1 Axes>"
      ],
      "image/png": "[encoded data removed]"
     },
     "metadata": {},
     "output_type": "display_data"
    }
   ],
   "execution_count": 8
  },
  {
   "metadata": {
    "ExecuteTime": {
     "end_time": "2024-11-26T05:47:32.585827Z",
     "start_time": "2024-11-26T05:47:32.494565Z"
    }
   },
   "cell_type": "code",
   "source": "research(geo_df_03)",
   "id": "ed3b8865287c1ffe",
   "outputs": [
    {
     "name": "stdout",
     "output_type": "stream",
     "text": [
      "Первые 5 строк таблицы:\n"
     ]
    },
    {
     "data": {
      "text/plain": [
       "      id        f0        f1        f2     product\n",
       "0  fwXo0 -1.146987  0.963328 -0.828965   27.758673\n",
       "1  WJtFt  0.262778  0.269839 -2.530187   56.069697\n",
       "2  ovLUW  0.194587  0.289035 -5.586433   62.871910\n",
       "3  q6cA6  2.236060 -0.553760  0.930038  114.572842\n",
       "4  WPMUX -0.515993  1.716266  5.899011  149.600746"
      ],
      "text/html": [
       "<div>\n",
       "<style scoped>\n",
       "    .dataframe tbody tr th:only-of-type {\n",
       "        vertical-align: middle;\n",
       "    }\n",
       "\n",
       "    .dataframe tbody tr th {\n",
       "        vertical-align: top;\n",
       "    }\n",
       "\n",
       "    .dataframe thead th {\n",
       "        text-align: right;\n",
       "    }\n",
       "</style>\n",
       "<table border=\"1\" class=\"dataframe\">\n",
       "  <thead>\n",
       "    <tr style=\"text-align: right;\">\n",
       "      <th></th>\n",
       "      <th>id</th>\n",
       "      <th>f0</th>\n",
       "      <th>f1</th>\n",
       "      <th>f2</th>\n",
       "      <th>product</th>\n",
       "    </tr>\n",
       "  </thead>\n",
       "  <tbody>\n",
       "    <tr>\n",
       "      <th>0</th>\n",
       "      <td>fwXo0</td>\n",
       "      <td>-1.146987</td>\n",
       "      <td>0.963328</td>\n",
       "      <td>-0.828965</td>\n",
       "      <td>27.758673</td>\n",
       "    </tr>\n",
       "    <tr>\n",
       "      <th>1</th>\n",
       "      <td>WJtFt</td>\n",
       "      <td>0.262778</td>\n",
       "      <td>0.269839</td>\n",
       "      <td>-2.530187</td>\n",
       "      <td>56.069697</td>\n",
       "    </tr>\n",
       "    <tr>\n",
       "      <th>2</th>\n",
       "      <td>ovLUW</td>\n",
       "      <td>0.194587</td>\n",
       "      <td>0.289035</td>\n",
       "      <td>-5.586433</td>\n",
       "      <td>62.871910</td>\n",
       "    </tr>\n",
       "    <tr>\n",
       "      <th>3</th>\n",
       "      <td>q6cA6</td>\n",
       "      <td>2.236060</td>\n",
       "      <td>-0.553760</td>\n",
       "      <td>0.930038</td>\n",
       "      <td>114.572842</td>\n",
       "    </tr>\n",
       "    <tr>\n",
       "      <th>4</th>\n",
       "      <td>WPMUX</td>\n",
       "      <td>-0.515993</td>\n",
       "      <td>1.716266</td>\n",
       "      <td>5.899011</td>\n",
       "      <td>149.600746</td>\n",
       "    </tr>\n",
       "  </tbody>\n",
       "</table>\n",
       "</div>"
      ]
     },
     "metadata": {},
     "output_type": "display_data"
    },
    {
     "name": "stdout",
     "output_type": "stream",
     "text": [
      "\n",
      "Информация о таблице:\n"
     ]
    },
    {
     "data": {
      "text/plain": [
       "         columns    dtype  non-null count\n",
       "id            id   object          100000\n",
       "f0            f0  float64          100000\n",
       "f1            f1  float64          100000\n",
       "f2            f2  float64          100000\n",
       "product  product  float64          100000"
      ],
      "text/html": [
       "<div>\n",
       "<style scoped>\n",
       "    .dataframe tbody tr th:only-of-type {\n",
       "        vertical-align: middle;\n",
       "    }\n",
       "\n",
       "    .dataframe tbody tr th {\n",
       "        vertical-align: top;\n",
       "    }\n",
       "\n",
       "    .dataframe thead th {\n",
       "        text-align: right;\n",
       "    }\n",
       "</style>\n",
       "<table border=\"1\" class=\"dataframe\">\n",
       "  <thead>\n",
       "    <tr style=\"text-align: right;\">\n",
       "      <th></th>\n",
       "      <th>columns</th>\n",
       "      <th>dtype</th>\n",
       "      <th>non-null count</th>\n",
       "    </tr>\n",
       "  </thead>\n",
       "  <tbody>\n",
       "    <tr>\n",
       "      <th>id</th>\n",
       "      <td>id</td>\n",
       "      <td>object</td>\n",
       "      <td>100000</td>\n",
       "    </tr>\n",
       "    <tr>\n",
       "      <th>f0</th>\n",
       "      <td>f0</td>\n",
       "      <td>float64</td>\n",
       "      <td>100000</td>\n",
       "    </tr>\n",
       "    <tr>\n",
       "      <th>f1</th>\n",
       "      <td>f1</td>\n",
       "      <td>float64</td>\n",
       "      <td>100000</td>\n",
       "    </tr>\n",
       "    <tr>\n",
       "      <th>f2</th>\n",
       "      <td>f2</td>\n",
       "      <td>float64</td>\n",
       "      <td>100000</td>\n",
       "    </tr>\n",
       "    <tr>\n",
       "      <th>product</th>\n",
       "      <td>product</td>\n",
       "      <td>float64</td>\n",
       "      <td>100000</td>\n",
       "    </tr>\n",
       "  </tbody>\n",
       "</table>\n",
       "</div>"
      ]
     },
     "metadata": {},
     "output_type": "display_data"
    },
    {
     "name": "stdout",
     "output_type": "stream",
     "text": [
      "\n",
      "Анализ пропущенных значений:\n"
     ]
    },
    {
     "data": {
      "text/plain": [
       "         Пропуски (шт.)  Пропуски (%)\n",
       "id                    0           0.0\n",
       "f0                    0           0.0\n",
       "f1                    0           0.0\n",
       "f2                    0           0.0\n",
       "product               0           0.0"
      ],
      "text/html": [
       "<div>\n",
       "<style scoped>\n",
       "    .dataframe tbody tr th:only-of-type {\n",
       "        vertical-align: middle;\n",
       "    }\n",
       "\n",
       "    .dataframe tbody tr th {\n",
       "        vertical-align: top;\n",
       "    }\n",
       "\n",
       "    .dataframe thead th {\n",
       "        text-align: right;\n",
       "    }\n",
       "</style>\n",
       "<table border=\"1\" class=\"dataframe\">\n",
       "  <thead>\n",
       "    <tr style=\"text-align: right;\">\n",
       "      <th></th>\n",
       "      <th>Пропуски (шт.)</th>\n",
       "      <th>Пропуски (%)</th>\n",
       "    </tr>\n",
       "  </thead>\n",
       "  <tbody>\n",
       "    <tr>\n",
       "      <th>id</th>\n",
       "      <td>0</td>\n",
       "      <td>0.0</td>\n",
       "    </tr>\n",
       "    <tr>\n",
       "      <th>f0</th>\n",
       "      <td>0</td>\n",
       "      <td>0.0</td>\n",
       "    </tr>\n",
       "    <tr>\n",
       "      <th>f1</th>\n",
       "      <td>0</td>\n",
       "      <td>0.0</td>\n",
       "    </tr>\n",
       "    <tr>\n",
       "      <th>f2</th>\n",
       "      <td>0</td>\n",
       "      <td>0.0</td>\n",
       "    </tr>\n",
       "    <tr>\n",
       "      <th>product</th>\n",
       "      <td>0</td>\n",
       "      <td>0.0</td>\n",
       "    </tr>\n",
       "  </tbody>\n",
       "</table>\n",
       "</div>"
      ]
     },
     "metadata": {},
     "output_type": "display_data"
    },
    {
     "name": "stdout",
     "output_type": "stream",
     "text": [
      "\n",
      "Статистическое описание данных:\n"
     ]
    },
    {
     "data": {
      "text/plain": [
       "                  f0             f1             f2        product\n",
       "count  100000.000000  100000.000000  100000.000000  100000.000000\n",
       "mean        0.002023      -0.002081       2.495128      95.000000\n",
       "std         1.732045       1.730417       3.473445      44.749921\n",
       "min        -8.760004      -7.084020     -11.970335       0.000000\n",
       "25%        -1.162288      -1.174820       0.130359      59.450441\n",
       "50%         0.009424      -0.009482       2.484236      94.925613\n",
       "75%         1.158535       1.163678       4.858794     130.595027\n",
       "max         7.238262       7.844801      16.739402     190.029838"
      ],
      "text/html": [
       "<div>\n",
       "<style scoped>\n",
       "    .dataframe tbody tr th:only-of-type {\n",
       "        vertical-align: middle;\n",
       "    }\n",
       "\n",
       "    .dataframe tbody tr th {\n",
       "        vertical-align: top;\n",
       "    }\n",
       "\n",
       "    .dataframe thead th {\n",
       "        text-align: right;\n",
       "    }\n",
       "</style>\n",
       "<table border=\"1\" class=\"dataframe\">\n",
       "  <thead>\n",
       "    <tr style=\"text-align: right;\">\n",
       "      <th></th>\n",
       "      <th>f0</th>\n",
       "      <th>f1</th>\n",
       "      <th>f2</th>\n",
       "      <th>product</th>\n",
       "    </tr>\n",
       "  </thead>\n",
       "  <tbody>\n",
       "    <tr>\n",
       "      <th>count</th>\n",
       "      <td>100000.000000</td>\n",
       "      <td>100000.000000</td>\n",
       "      <td>100000.000000</td>\n",
       "      <td>100000.000000</td>\n",
       "    </tr>\n",
       "    <tr>\n",
       "      <th>mean</th>\n",
       "      <td>0.002023</td>\n",
       "      <td>-0.002081</td>\n",
       "      <td>2.495128</td>\n",
       "      <td>95.000000</td>\n",
       "    </tr>\n",
       "    <tr>\n",
       "      <th>std</th>\n",
       "      <td>1.732045</td>\n",
       "      <td>1.730417</td>\n",
       "      <td>3.473445</td>\n",
       "      <td>44.749921</td>\n",
       "    </tr>\n",
       "    <tr>\n",
       "      <th>min</th>\n",
       "      <td>-8.760004</td>\n",
       "      <td>-7.084020</td>\n",
       "      <td>-11.970335</td>\n",
       "      <td>0.000000</td>\n",
       "    </tr>\n",
       "    <tr>\n",
       "      <th>25%</th>\n",
       "      <td>-1.162288</td>\n",
       "      <td>-1.174820</td>\n",
       "      <td>0.130359</td>\n",
       "      <td>59.450441</td>\n",
       "    </tr>\n",
       "    <tr>\n",
       "      <th>50%</th>\n",
       "      <td>0.009424</td>\n",
       "      <td>-0.009482</td>\n",
       "      <td>2.484236</td>\n",
       "      <td>94.925613</td>\n",
       "    </tr>\n",
       "    <tr>\n",
       "      <th>75%</th>\n",
       "      <td>1.158535</td>\n",
       "      <td>1.163678</td>\n",
       "      <td>4.858794</td>\n",
       "      <td>130.595027</td>\n",
       "    </tr>\n",
       "    <tr>\n",
       "      <th>max</th>\n",
       "      <td>7.238262</td>\n",
       "      <td>7.844801</td>\n",
       "      <td>16.739402</td>\n",
       "      <td>190.029838</td>\n",
       "    </tr>\n",
       "  </tbody>\n",
       "</table>\n",
       "</div>"
      ]
     },
     "metadata": {},
     "output_type": "display_data"
    },
    {
     "name": "stdout",
     "output_type": "stream",
     "text": [
      "Число явных дубликатов: 0\n"
     ]
    }
   ],
   "execution_count": 9
  },
  {
   "metadata": {},
   "cell_type": "markdown",
   "source": [
    "### Промежутночный вывод\n",
    "#### Данные без явных дубликатов, без пропусков, нормальные названия столбцов, подходящие типы данных\n"
   ],
   "id": "8f1faf035fc33c7f"
  },
  {
   "metadata": {},
   "cell_type": "markdown",
   "source": "## Подготовим данные\n",
   "id": "d1fde86bf81d56fd"
  },
  {
   "metadata": {},
   "cell_type": "markdown",
   "source": "#### Удалим ненужный столбец `id`, он никак не влияет на данные",
   "id": "9daae16eac7983ef"
  },
  {
   "metadata": {
    "ExecuteTime": {
     "end_time": "2024-11-26T05:47:32.742598Z",
     "start_time": "2024-11-26T05:47:32.729352Z"
    }
   },
   "cell_type": "code",
   "source": [
    "geo_df_01 = geo_df_01.drop(['id'], axis=1)\n",
    "geo_df_02 = geo_df_02.drop(['id'], axis=1)\n",
    "geo_df_03 = geo_df_03.drop(['id'], axis=1)"
   ],
   "id": "7c7dc1ab0c4fe0d4",
   "outputs": [],
   "execution_count": 10
  },
  {
   "metadata": {},
   "cell_type": "markdown",
   "source": "## Обучение и проверка модели",
   "id": "e2209ce7a963ac82"
  },
  {
   "metadata": {
    "ExecuteTime": {
     "end_time": "2024-11-26T05:47:33.089838Z",
     "start_time": "2024-11-26T05:47:33.085535Z"
    }
   },
   "cell_type": "code",
   "source": [
    "# Функция для обучения модели линейной регрессии и предсказания объема сырья.\n",
    "def region_prediction(df):\n",
    "    # Разделение данных на признаки и целевую переменную\n",
    "    features = df.drop(\"product\", axis=1)\n",
    "    target = df[\"product\"]\n",
    "\n",
    "    # Разбиение на обучающую и валидационную выборки\n",
    "    features_train, features_valid, target_train, target_valid = train_test_split(\n",
    "        features, target, test_size=0.25, random_state=12345\n",
    "    )\n",
    "\n",
    "    # Масштабирование данных\n",
    "    scaler = StandardScaler()\n",
    "    features_train = scaler.fit_transform(features_train)\n",
    "    features_valid = scaler.transform(features_valid)\n",
    "\n",
    "    # Обучение модели линейной регрессии\n",
    "    model = LinearRegression()\n",
    "    model.fit(features_train, target_train)\n",
    "\n",
    "    # Получение предсказаний\n",
    "    predictions = model.predict(features_valid)\n",
    "    predictions = pd.Series(predictions)\n",
    "\n",
    "    # Вычисление RMSE\n",
    "    rmse = np.sqrt(mean_squared_error(target_valid, predictions))\n",
    "\n",
    "    # Средние значения запасов\n",
    "    stock_mean = target.mean()\n",
    "    stock_mean_pred = predictions.mean()\n",
    "\n",
    "    return predictions, rmse, stock_mean, stock_mean_pred, target_valid.reset_index(drop=True)"
   ],
   "id": "36b890f4e07a15eb",
   "outputs": [],
   "execution_count": 11
  },
  {
   "metadata": {
    "ExecuteTime": {
     "end_time": "2024-11-26T05:47:33.451415Z",
     "start_time": "2024-11-26T05:47:33.393666Z"
    }
   },
   "cell_type": "code",
   "source": [
    "def print_region_results(region_number, rmse, stock_mean_pred):\n",
    "    print(f\"Результаты для региона №{region_number}:\\n\"\n",
    "          f\"-------------------------------\\n\"\n",
    "          f\"RMSE модели: {rmse:.3f}\\n\"\n",
    "          f\"Средний запас предсказанного сырья: {stock_mean_pred:.3f} тыс. баррелей\\n\"\n",
    "          \"-------------------------------\\n\")\n",
    "\n",
    "\n",
    "pred_1, rmse_1, stock_mean_1, stock_mean_pred_1, target_valid_1 = region_prediction(geo_df_01)\n",
    "print_region_results(1, rmse_1, stock_mean_pred_1)\n",
    "\n",
    "pred_2, rmse_2, stock_mean_2, stock_mean_pred_2, target_valid_2 = region_prediction(geo_df_02)\n",
    "print_region_results(2, rmse_2, stock_mean_pred_2)\n",
    "\n",
    "pred_3, rmse_3, stock_mean_3, stock_mean_pred_3, target_valid_3 = region_prediction(geo_df_03)\n",
    "print_region_results(3, rmse_3, stock_mean_pred_3)"
   ],
   "id": "7eebfa25e4817438",
   "outputs": [
    {
     "name": "stdout",
     "output_type": "stream",
     "text": [
      "Результаты для региона №1:\n",
      "-------------------------------\n",
      "RMSE модели: 37.579\n",
      "Средний запас предсказанного сырья: 92.593 тыс. баррелей\n",
      "-------------------------------\n",
      "\n",
      "Результаты для региона №2:\n",
      "-------------------------------\n",
      "RMSE модели: 0.893\n",
      "Средний запас предсказанного сырья: 68.729 тыс. баррелей\n",
      "-------------------------------\n",
      "\n",
      "Результаты для региона №3:\n",
      "-------------------------------\n",
      "RMSE модели: 40.030\n",
      "Средний запас предсказанного сырья: 94.965 тыс. баррелей\n",
      "-------------------------------\n",
      "\n"
     ]
    }
   ],
   "execution_count": 12
  },
  {
   "metadata": {},
   "cell_type": "markdown",
   "source": [
    "### Промежуточный вывод\n",
    "Наибольший запас сырья в 3-м регионе: 94.965 тыс. баррелей"
   ],
   "id": "5625c009ede4c5fc"
  },
  {
   "metadata": {},
   "cell_type": "markdown",
   "source": "## Подготовка к расчету прибыли",
   "id": "ff128b60171b3492"
  },
  {
   "metadata": {},
   "cell_type": "markdown",
   "source": [
    "По условиям задачи:\n",
    "\n",
    "- Для обучения модели подходит только линейная регрессия (остальные — недостаточно предсказуемые).\n",
    "\n",
    "- При разведке региона исследуют 500 точек, из которых с помощью машинного обучения выбирают 200 лучших для разработки.\n",
    "\n",
    "- Бюджет на разработку скважин в регионе — 10 млрд рублей.\n",
    "\n",
    "- При нынешних ценах один баррель сырья приносит 450 рублей дохода. Доход с каждой единицы продукта составляет 450 тыс. рублей, поскольку объём указан в тысячах баррелей.\n",
    "\n",
    "- После оценки рисков нужно оставить лишь те регионы, в которых вероятность убытков меньше 2.5%. Среди них выбирают регион с наибольшей средней прибылью."
   ],
   "id": "882d25cbb0303c65"
  },
  {
   "metadata": {
    "ExecuteTime": {
     "end_time": "2024-11-26T05:47:33.508853Z",
     "start_time": "2024-11-26T05:47:33.505425Z"
    }
   },
   "cell_type": "code",
   "source": [
    "#Из условий задачи\n",
    "total_points = 500\n",
    "best_points = 200\n",
    "budget = 10000000000\n",
    "income = 450000\n",
    "risk_assessment = 0.025"
   ],
   "id": "7a284354381595a7",
   "outputs": [],
   "execution_count": 13
  },
  {
   "metadata": {},
   "cell_type": "markdown",
   "source": "#### Бюджет бурения одного месторождения:\n",
   "id": "87c8b64182a75bc6"
  },
  {
   "metadata": {
    "ExecuteTime": {
     "end_time": "2024-11-26T05:47:33.566114Z",
     "start_time": "2024-11-26T05:47:33.562321Z"
    }
   },
   "cell_type": "code",
   "source": [
    "budget_of_one_point = budget/best_points\n",
    "print('руб:', budget_of_one_point)"
   ],
   "id": "394eaa8b84e07e93",
   "outputs": [
    {
     "name": "stdout",
     "output_type": "stream",
     "text": [
      "руб: 50000000.0\n"
     ]
    }
   ],
   "execution_count": 14
  },
  {
   "metadata": {},
   "cell_type": "markdown",
   "source": "#### Объем сырья для безубыточной разработки новой скважины:\n",
   "id": "20891f45ad150fda"
  },
  {
   "metadata": {
    "ExecuteTime": {
     "end_time": "2024-11-26T05:47:33.593838Z",
     "start_time": "2024-11-26T05:47:33.589678Z"
    }
   },
   "cell_type": "code",
   "source": [
    "budget_pluse = budget_of_one_point / income\n",
    "print(f'Объем: {budget_pluse:.3f} т. баррелей')"
   ],
   "id": "7366695e554c6881",
   "outputs": [
    {
     "name": "stdout",
     "output_type": "stream",
     "text": [
      "Объем: 111.111 т. баррелей\n"
     ]
    }
   ],
   "execution_count": 15
  },
  {
   "metadata": {},
   "cell_type": "markdown",
   "source": "#### Выведем распределение предсказанных значений",
   "id": "117f04bca467505e"
  },
  {
   "metadata": {
    "ExecuteTime": {
     "end_time": "2024-11-26T05:47:33.911661Z",
     "start_time": "2024-11-26T05:47:33.612641Z"
    }
   },
   "cell_type": "code",
   "source": "oil_hist(pred_1, 200, 190, 500)",
   "id": "1347f8c37dca810",
   "outputs": [
    {
     "data": {
      "text/plain": [
       "<Figure size 1200x900 with 1 Axes>"
      ],
      "image/png": "[encoded data removed]"
     },
     "metadata": {},
     "output_type": "display_data"
    }
   ],
   "execution_count": 16
  },
  {
   "metadata": {
    "ExecuteTime": {
     "end_time": "2024-11-26T05:47:34.102021Z",
     "start_time": "2024-11-26T05:47:33.934141Z"
    }
   },
   "cell_type": "code",
   "source": "oil_hist(pred_2, 20, 150, 500)",
   "id": "21c9c62141b20d01",
   "outputs": [
    {
     "data": {
      "text/plain": [
       "<Figure size 1200x900 with 1 Axes>"
      ],
      "image/png": "[encoded data removed]"
     },
     "metadata": {},
     "output_type": "display_data"
    }
   ],
   "execution_count": 17
  },
  {
   "metadata": {
    "ExecuteTime": {
     "end_time": "2024-11-26T05:47:34.487925Z",
     "start_time": "2024-11-26T05:47:34.111361Z"
    }
   },
   "cell_type": "code",
   "source": "oil_hist(pred_3, 200, 190, 500)",
   "id": "c9af23b8b69b2169",
   "outputs": [
    {
     "data": {
      "text/plain": [
       "<Figure size 1200x900 with 1 Axes>"
      ],
      "image/png": "[encoded data removed]"
     },
     "metadata": {},
     "output_type": "display_data"
    }
   ],
   "execution_count": 18
  },
  {
   "metadata": {},
   "cell_type": "markdown",
   "source": [
    "### Промежуточный вывод:\n",
    "\n",
    "- **Бюджет бурения одного месторождения**: 50,000,000 рублей.\n",
    "- **Объём сырья для безубыточной разработки новой скважины**: 111.111 тысяч баррелей."
   ],
   "id": "d9ac858c76b88daf"
  },
  {
   "metadata": {},
   "cell_type": "markdown",
   "source": "## Функция для расчета прибыли\n",
   "id": "2f5f77064b28d2ba"
  },
  {
   "metadata": {
    "ExecuteTime": {
     "end_time": "2024-11-26T05:47:34.535427Z",
     "start_time": "2024-11-26T05:47:34.524186Z"
    }
   },
   "cell_type": "code",
   "source": [
    "def profit(predictions, target):\n",
    "    df = pd.concat([predictions, target], axis=1)\n",
    "    df.columns = ['prediction', 'target']\n",
    "\n",
    "    df = df.sort_values(by='prediction', ascending=False)[:best_points]\n",
    "\n",
    "    return (df['target'].sum() * income - budget)\n",
    "\n",
    "\n",
    "income_1 = profit(pred_1, target_valid_1)\n",
    "print('Прибыль для полученного объема сырья в регионе №1: {:.2f} руб.'.format(income_1))\n",
    "\n",
    "income_2 = profit(pred_2, target_valid_2)\n",
    "print('Прибыль для полученного объема сырья в регионе №2: {:.2f} руб.'.format(income_2))\n",
    "\n",
    "income_3 = profit(pred_3, target_valid_3)\n",
    "print('Прибыль для полученного объема сырья в регионе №3: {:.2f} руб.'.format(income_3))"
   ],
   "id": "cb8360697b7a6a66",
   "outputs": [
    {
     "name": "stdout",
     "output_type": "stream",
     "text": [
      "Прибыль для полученного объема сырья в регионе №1: 3320826043.14 руб.\n",
      "Прибыль для полученного объема сырья в регионе №2: 2415086696.68 руб.\n",
      "Прибыль для полученного объема сырья в регионе №3: 2710349963.60 руб.\n"
     ]
    }
   ],
   "execution_count": 19
  },
  {
   "metadata": {},
   "cell_type": "markdown",
   "source": [
    "### Промежуточный вывод:\n",
    "#### Наибольшая прибыль в регионе №1 = 3320826043.14 руб"
   ],
   "id": "871de3cba2269dfd"
  },
  {
   "metadata": {},
   "cell_type": "markdown",
   "source": "## Расчет прибыли и рисков",
   "id": "7f149509d91ab1b6"
  },
  {
   "metadata": {
    "ExecuteTime": {
     "end_time": "2024-11-26T05:47:34.564415Z",
     "start_time": "2024-11-26T05:47:34.559437Z"
    }
   },
   "cell_type": "code",
   "source": [
    "def estimate(prediction, target):\n",
    "    random_state = np.random.RandomState(12345)\n",
    "\n",
    "    profit_values = []\n",
    "\n",
    "    # Бутстрап выборка и расчет прибыли\n",
    "    for _ in range(1000):\n",
    "        target_subsample = target.sample(n=500, replace=True, random_state=random_state)\n",
    "        pred_subsample = prediction[target_subsample.index]\n",
    "        profit_values.append(profit(pred_subsample, target_subsample))\n",
    "\n",
    "    profit_series = pd.Series(profit_values)\n",
    "\n",
    "    mean_profit = profit_series.mean()\n",
    "    confidence_lower = profit_series.quantile(0.025)\n",
    "    confidence_upper = profit_series.quantile(0.975)\n",
    "    risk_of_loss = (profit_series < 0).mean()\n",
    "\n",
    "    print(f\"Средняя прибыль = {mean_profit:.2f} руб.\")\n",
    "    print(f\"95% доверительный интервал от {confidence_lower:.2f} до {confidence_upper:.2f} руб.\")\n",
    "    print(f\"Процент риска {risk_of_loss:.1%}\")"
   ],
   "id": "c6bbf4f7b0982319",
   "outputs": [],
   "execution_count": 20
  },
  {
   "metadata": {},
   "cell_type": "markdown",
   "source": "### Прибыль и риски по 1-у региону",
   "id": "efe6ddd6205fa883"
  },
  {
   "metadata": {
    "ExecuteTime": {
     "end_time": "2024-11-26T05:47:35.493342Z",
     "start_time": "2024-11-26T05:47:34.606175Z"
    }
   },
   "cell_type": "code",
   "source": "region_1 = estimate(pred_1, target_valid_1)",
   "id": "6e08c9f48b53aba1",
   "outputs": [
    {
     "name": "stdout",
     "output_type": "stream",
     "text": [
      "Средняя прибыль = 396164984.80 руб.\n",
      "95% доверительный интервал от -111215545.89 до 909766941.55 руб.\n",
      "Процент риска 6.9%\n"
     ]
    }
   ],
   "execution_count": 21
  },
  {
   "metadata": {},
   "cell_type": "markdown",
   "source": "### Прибыль и риски по 2-у региону",
   "id": "a3b89e508d40d1b4"
  },
  {
   "metadata": {
    "ExecuteTime": {
     "end_time": "2024-11-26T05:47:36.389308Z",
     "start_time": "2024-11-26T05:47:35.504741Z"
    }
   },
   "cell_type": "code",
   "source": "region_2 = estimate(pred_2, target_valid_2)",
   "id": "68f7bf7d01db4c59",
   "outputs": [
    {
     "name": "stdout",
     "output_type": "stream",
     "text": [
      "Средняя прибыль = 456045105.79 руб.\n",
      "95% доверительный интервал от 33820509.40 до 852289453.87 руб.\n",
      "Процент риска 1.5%\n"
     ]
    }
   ],
   "execution_count": 22
  },
  {
   "metadata": {},
   "cell_type": "markdown",
   "source": "### Прибыль и риски по 3-у региону",
   "id": "e120d1ada98994a6"
  },
  {
   "metadata": {
    "ExecuteTime": {
     "end_time": "2024-11-26T05:47:37.271508Z",
     "start_time": "2024-11-26T05:47:36.400208Z"
    }
   },
   "cell_type": "code",
   "source": "region_3 = estimate(pred_3, target_valid_3)",
   "id": "b0b57431614ee041",
   "outputs": [
    {
     "name": "stdout",
     "output_type": "stream",
     "text": [
      "Средняя прибыль = 404403866.57 руб.\n",
      "95% доверительный интервал от -163350413.40 до 950359574.92 руб.\n",
      "Процент риска 7.6%\n"
     ]
    }
   ],
   "execution_count": 23
  },
  {
   "metadata": {},
   "cell_type": "markdown",
   "source": [
    "### Промежуточный вывод:\n",
    "#### Второй регион оказался с наименьшим риском, всего 1.5%\n",
    "#### А также с наибольшей средней прибылью 456045105.79 руб."
   ],
   "id": "d473e204c955297d"
  },
  {
   "metadata": {},
   "cell_type": "markdown",
   "source": [
    "# Заключение\n",
    "\n",
    "### Подготовка данных\n",
    "- Мы подготовили данные, проверив их на наличие дубликатов и пропусков, а также изучили форматы всех данных.\n",
    "\n",
    "### Анализ и обучение модели\n",
    "- Данные были разбиты на обучающую и валидационную выборки.\n",
    "- Обучена модель и рассчитано среднеквадратичное отклонение предсказаний по валидационной выборке.\n",
    "\n",
    "### Функции расчета и Bootstrap\n",
    "- Разработаны функции для расчета прибыли и процедуры Bootstrap.\n",
    "- С помощью Bootstrap анализ проведен путем разбивки выборок на 500 значений. Из каждой выборки отобрано 200 с наибольшим объемом нефти, затем рассчитан суммарный доход, вычтен бюджет на разработку и в итоге получена прибыль или убыток. Эта процедура повторена 1000 раз.\n",
    "- Определено отношение количества убыточных кейсов к общему числу кейсов.\n",
    "\n",
    "### Результаты анализа\n",
    "- Средний объем нефти в регионе был сравнен с минимальным объемом, необходимым для окупаемости скважины. Обнаружено, что в среднем по всем регионам этот показатель ниже желаемого уровня.\n",
    "- Изучено распределение объемов нефти в скважинах, в одном из регионов наблюдается заметно меньшая изменчивость.\n",
    "- Рассчитаны доверительный интервал и вероятность убытка.\n",
    "\n",
    "### Итог\n",
    "- Наиболее потенциально безопасным с точки зрения инвестиций в разработку является второй регион, так как он демонстрирует самую низкую вероятность убытка и самую высокую среднюю прибыль."
   ],
   "id": "6ca2cff14db1ebb"
  }
 ],
 "metadata": {
  "kernelspec": {
   "display_name": "Python 3",
   "language": "python",
   "name": "python3"
  },
  "language_info": {
   "codemirror_mode": {
    "name": "ipython",
    "version": 2
   },
   "file_extension": ".py",
   "mimetype": "text/x-python",
   "name": "python",
   "nbconvert_exporter": "python",
   "pygments_lexer": "ipython2",
   "version": "2.7.6"
  }
 },
 "nbformat": 4,
 "nbformat_minor": 5
}
